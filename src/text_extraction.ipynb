{
 "cells": [
  {
   "cell_type": "code",
   "execution_count": 2,
   "id": "1fdba272-4748-4783-94df-718fcff3b105",
   "metadata": {},
   "outputs": [],
   "source": [
    "from gazpacho import get, Soup"
   ]
  },
  {
   "cell_type": "code",
   "execution_count": 13,
   "id": "4915bdbd-19b9-42fd-9e24-6a4a7a1d2f3c",
   "metadata": {},
   "outputs": [],
   "source": [
    "from bs4 import BeautifulSoup"
   ]
  },
  {
   "cell_type": "code",
   "execution_count": 3,
   "id": "30ce76c9-213a-4c9b-a765-adf10d220fda",
   "metadata": {},
   "outputs": [],
   "source": [
    "url = \"https://www.investopedia.com/terms/m/marketmaker.asp\""
   ]
  },
  {
   "cell_type": "code",
   "execution_count": 5,
   "id": "a66c4b24-638e-488c-9549-203a35194e61",
   "metadata": {
    "tags": []
   },
   "outputs": [],
   "source": [
    "page = get(url)"
   ]
  },
  {
   "cell_type": "code",
   "execution_count": 7,
   "id": "7403f3d0-2c1e-4233-a70a-c50bab4b3af2",
   "metadata": {
    "tags": []
   },
   "outputs": [],
   "source": [
    "soup = Soup(page)"
   ]
  },
  {
   "cell_type": "code",
   "execution_count": 8,
   "id": "f874cf40-6e1f-4f98-af00-fda5dda874ad",
   "metadata": {},
   "outputs": [],
   "source": [
    "div_pattern = \"mntl-sc-page_1-0\"\n",
    "div = soup.find(\"div\", {\"id\": div_pattern})\n",
    "content = div.text"
   ]
  },
  {
   "cell_type": "code",
   "execution_count": 9,
   "id": "07d0bf48-614d-4bdc-8594-713adf4de7f1",
   "metadata": {},
   "outputs": [
    {
     "data": {
      "text/plain": [
       "'What Is a Market Maker?'"
      ]
     },
     "execution_count": 9,
     "metadata": {},
     "output_type": "execute_result"
    }
   ],
   "source": [
    "content"
   ]
  },
  {
   "cell_type": "code",
   "execution_count": 12,
   "id": "8135f13f-0b09-43dc-bab3-166fc212e3c2",
   "metadata": {},
   "outputs": [
    {
     "data": {
      "text/plain": [
       "<div id=\"mntl-sc-page_1-0\" class=\"comp article-body-content mntl-sc-page mntl-block\" data-sc-sticky-offset=\"80\" data-sc-ad-label-height=\"0\" data-sc-ad-track-spacing=\"90\" data-sc-min-track-height=\"250\" data-sc-max-track-height=\"600\" data-sc-breakpoint=\"50em\" data-sc-load-immediate=\"2\" data-sc-content-positions=\"[300, 1, 1, 1250, 1, 1, 1, 1]\" data-bind-scroll-on-start=\"true\">\n",
       "<span class=\"heading-toc\" id=\"toc-what-is-a-market-maker\"></span> <h2 id=\"mntl-sc-block_1-0\" class=\"comp mntl-sc-block finance-sc-block-heading mntl-sc-block-heading\"> <span class=\"mntl-sc-block-heading__text\"> What Is a Market Maker? </span> </h2>\n",
       "<p id=\"mntl-sc-block_1-0-1\" class=\"comp mntl-sc-block finance-sc-block-html mntl-sc-block-html\">\n",
       "The term market maker refers to a firm or individual who actively quotes <a href=\"https://www.investopedia.com/terms/t/two-sidedmarket.asp\" data-component=\"link\" data-source=\"inlineLink\" data-type=\"internalLink\" data-ordinal=\"1\">two-sided markets</a> in a particular security by providing <a href=\"https://www.investopedia.com/terms/b/bid.asp\" data-component=\"link\" data-source=\"inlineLink\" data-type=\"internalLink\" data-ordinal=\"2\">bids</a> and offers (known as <a href=\"https://www.investopedia.com/terms/a/ask.asp\" data-component=\"link\" data-source=\"inlineLink\" data-type=\"internalLink\" data-ordinal=\"3\">asks</a>) along with the market size of each. Market makers provide <a href=\"https://www.investopedia.com/terms/l/liquidity.asp\" data-component=\"link\" data-source=\"inlineLink\" data-type=\"internalLink\" data-ordinal=\"4\">liquidity</a> and depth to markets and profit from the difference in the <a href=\"https://www.investopedia.com/terms/b/bid-askspread.asp\" data-component=\"link\" data-source=\"inlineLink\" data-type=\"internalLink\" data-ordinal=\"5\">bid-ask spread</a>. They may also make trades for their own accounts, which are known as principal trades.<br>\n",
       "</p>\n",
       "<div id=\"mntl-sc-block_1-0-2\" class=\"comp mntl-sc-block mntl-sc-block-adslot mntl-block\"></div>\n",
       "<div id=\"mntl-sc-block_1-0-3\" class=\"comp mntl-sc-block finance-sc-block-callout mntl-block\">\n",
       "<div id=\"mntl-sc-block_1-0-4\" class=\"comp theme-whatyouneedtoknow mntl-sc-block mntl-sc-block-callout mntl-block\" data-tracking-id=\"mntl-sc-block-callout\" data-tracking-container=\"true\">\n",
       "<h3 id=\"mntl-sc-block-callout-heading_1-0\" class=\"comp mntl-sc-block-callout-heading mntl-text-block\">\n",
       "Key Takeaways</h3>\n",
       "<div id=\"mntl-sc-block-callout-body_1-0\" class=\"comp mntl-sc-block-callout-body mntl-text-block\">\n",
       "<ul><li>A market maker is an individual participant or member firm of an exchange that buys and sells securities for its own account.</li><li>Market makers provide the market with liquidity and depth while profiting from the difference in the bid-ask spread.</li><li>Brokerage houses are the most common types of market makers, providing purchase and sale solutions for investors.</li><li>Market makers are compensated for the risk of holding assets because a security's value may decline between its purchase and sale to another buyer. </li><li>While brokers compete against one another, specialists post bids and asks and ensure they are reported accurately.</li></ul></div>\n",
       "</div>\n",
       "</div>\n",
       "<div id=\"mntl-sc-block_1-0-5\" class=\"comp mntl-sc-block--sim-investment-tool mntl-sc-block mntl-sc-block-tool mntl-block\">\n",
       "<div id=\"sim-investment-tool_1-0\" class=\"comp sim-investment-tool mntl-block\" data-defer=\"load\" data-defer-params=\"None\"></div>\n",
       "</div>\n",
       "<div id=\"mntl-sc-block_1-0-6\" class=\"comp mntl-sc-block mntl-sc-block-adslot mntl-block\"></div>\n",
       "<span class=\"heading-toc\" id=\"toc-understanding-market-makers\"></span> <h2 id=\"mntl-sc-block_1-0-7\" class=\"comp mntl-sc-block finance-sc-block-heading mntl-sc-block-heading\"> <span class=\"mntl-sc-block-heading__text\"> Understanding Market Makers </span> </h2>\n",
       "<p id=\"mntl-sc-block_1-0-8\" class=\"comp mntl-sc-block finance-sc-block-html mntl-sc-block-html\">\n",
       "Many market makers are often <a href=\"https://www.investopedia.com/terms/b/brokerage-company.asp\" data-component=\"link\" data-source=\"inlineLink\" data-type=\"internalLink\" data-ordinal=\"1\">brokerage</a> houses that provide trading services for investors in an effort to keep financial markets liquid. A market maker can also be an individual trader, who is commonly known as a local. The vast majority of market makers work on behalf of large institutions due to the size of securities needed to facilitate the volume of purchases and sales.\n",
       "</p>\n",
       "<div id=\"mntl-sc-block_1-0-9\" class=\"comp mntl-sc-block mntl-sc-block-adslot mntl-block\"></div>\n",
       "<p id=\"mntl-sc-block_1-0-10\" class=\"comp mntl-sc-block finance-sc-block-html mntl-sc-block-html\">\n",
       "Each market maker displays buy and sell quotations for a guaranteed number of shares. Once the market maker receives an order from a buyer, they immediately sell off their position of shares from their own <a href=\"https://www.investopedia.com/terms/i/inventory.asp\" data-component=\"link\" data-source=\"inlineLink\" data-type=\"internalLink\" data-ordinal=\"1\">inventory</a>. This allows them to complete the order.\n",
       "</p>\n",
       "<div id=\"mntl-sc-block_1-0-11\" class=\"comp mntl-sc-block mntl-sc-block-adslot mntl-block\"></div>\n",
       "<p id=\"mntl-sc-block_1-0-12\" class=\"comp mntl-sc-block finance-sc-block-html mntl-sc-block-html\">\n",
       "A market maker must commit to continuously quoting prices at which it will buy (or <a href=\"https://www.investopedia.com/terms/b/bid.asp\" data-component=\"link\" data-source=\"inlineLink\" data-type=\"internalLink\" data-ordinal=\"1\">bid</a> for) and sell (or <a href=\"https://www.investopedia.com/terms/a/ask.asp\" data-component=\"link\" data-source=\"inlineLink\" data-type=\"internalLink\" data-ordinal=\"2\">ask</a> for) securities.<span class=\"ql-inline-citation\" data-cite=\"1\"></span> Market makers must also quote the volume in which they're willing to trade along with the frequency of time they will quote at the <a href=\"https://www.investopedia.com/terms/b/bestbid.asp\" data-component=\"link\" data-source=\"inlineLink\" data-type=\"internalLink\" data-ordinal=\"3\">best bid</a> and best offer prices. Market makers must stick to these parameters at all times and during all market outlooks. When markets become erratic or <a href=\"https://www.investopedia.com/terms/v/volatility.asp\" data-component=\"link\" data-source=\"inlineLink\" data-type=\"internalLink\" data-ordinal=\"4\">volatile</a>, market makers must remain disciplined in order to continue facilitating smooth transactions.\n",
       "</p>\n",
       "<div id=\"mntl-sc-block_1-0-13\" class=\"comp mntl-sc-block mntl-sc-block-adslot mntl-block\"></div>\n",
       "<div id=\"mntl-sc-block_1-0-14\" class=\"comp mntl-sc-block finance-sc-block-callout mntl-block\">\n",
       "<div id=\"mntl-sc-block_1-0-15\" class=\"comp theme-note mntl-sc-block mntl-sc-block-callout mntl-block\" data-tracking-id=\"mntl-sc-block-callout\" data-tracking-container=\"true\">\n",
       "<h3 id=\"mntl-sc-block-callout-heading_1-0-1\" class=\"comp no-title mntl-sc-block-callout-heading mntl-text-block\"></h3>\n",
       "<div id=\"mntl-sc-block-callout-body_1-0-1\" class=\"comp mntl-sc-block-callout-body mntl-text-block\">\n",
       "<p><a href=\"https://www.investopedia.com/terms/m/makeamarket.asp\" data-component=\"link\" data-source=\"inlineLink\" data-type=\"internalLink\" data-ordinal=\"1\">Making a market</a> signals a willingness to buy and sell the securities of a certain set of companies to <a href=\"https://www.investopedia.com/terms/b/broker-dealer.asp\" data-component=\"link\" data-source=\"inlineLink\" data-type=\"internalLink\" data-ordinal=\"2\">broker-dealer</a> firms that are members of that exchange.</p></div>\n",
       "</div>\n",
       "</div>\n",
       "<span class=\"heading-toc\" id=\"toc-how-market-makers-earn-profits\"></span> <h2 id=\"mntl-sc-block_1-0-16\" class=\"comp mntl-sc-block finance-sc-block-heading mntl-sc-block-heading\"> <span class=\"mntl-sc-block-heading__text\"> How Market Makers Earn Profits </span> </h2>\n",
       "<p id=\"mntl-sc-block_1-0-17\" class=\"comp mntl-sc-block finance-sc-block-html mntl-sc-block-html\">\n",
       "Market makers are compensated for the risk of holding assets because they may see a decline in the value of a security after it has been purchased from a seller and before it's sold to a buyer.\n",
       "</p>\n",
       "<div id=\"mntl-sc-block_1-0-18\" class=\"comp mntl-sc-block mntl-sc-block-adslot mntl-block\"></div>\n",
       "<p id=\"mntl-sc-block_1-0-19\" class=\"comp mntl-sc-block finance-sc-block-html mntl-sc-block-html\">\n",
       "Consequently, they commonly charge the aforementioned <a href=\"https://www.investopedia.com/terms/s/spread.asp\" data-component=\"link\" data-source=\"inlineLink\" data-type=\"internalLink\" data-ordinal=\"1\">spread</a> on each security they cover. For example, when an investor searches for a stock using an online brokerage firm, it might observe a bid price of $100 and an ask price of $100.05. This means the broker purchases the stock for $100, then sells it to prospective buyers for $100.05. Through high-volume trading, a small spread can add up to large daily profits.\n",
       "</p>\n",
       "<div id=\"mntl-sc-block_1-0-20\" class=\"comp mntl-sc-block mntl-sc-block-adslot mntl-block\"></div>\n",
       "<p id=\"mntl-sc-block_1-0-21\" class=\"comp mntl-sc-block finance-sc-block-html mntl-sc-block-html\">\n",
       "Market makers must operate under a given exchange's bylaws, which are approved by a country's securities regulator, such as the <a href=\"https://www.investopedia.com/terms/s/sec.asp\" data-component=\"link\" data-source=\"inlineLink\" data-type=\"internalLink\" data-ordinal=\"1\">Securities and Exchange Commission (SEC)</a>.<span class=\"ql-inline-citation\" data-cite=\"4\"></span> The rights and responsibilities of market makers vary by exchange and by the type of financial instrument they trade, such as equities or options.\n",
       "</p>\n",
       "<div id=\"mntl-sc-block_1-0-22\" class=\"comp mntl-sc-block mntl-sc-block-adslot mntl-block\"></div>\n",
       "<span class=\"heading-toc\" id=\"toc-market-makers-vs-designated-market-makers-dmms\"></span> <h2 id=\"mntl-sc-block_1-0-23\" class=\"comp mntl-sc-block finance-sc-block-heading mntl-sc-block-heading\"> <span class=\"mntl-sc-block-heading__text\"> Market Makers vs. Designated Market Makers (DMMs) </span> </h2>\n",
       "<p id=\"mntl-sc-block_1-0-24\" class=\"comp mntl-sc-block finance-sc-block-html mntl-sc-block-html\">\n",
       "Many exchanges use a system of market makers, who compete to set the best bid or offer so they can win the business of incoming orders. But some entities, such as the <a href=\"https://www.investopedia.com/terms/n/nyse.asp\" data-component=\"link\" data-source=\"inlineLink\" data-type=\"internalLink\" data-ordinal=\"1\">New York Stock Exchange (NYSE)</a>, have what's called a <a href=\"https://www.investopedia.com/terms/d/designated-market-maker-dmm.asp\" data-component=\"link\" data-source=\"inlineLink\" data-type=\"internalLink\" data-ordinal=\"2\">designated market maker (DMM)</a> system instead.\n",
       "</p>\n",
       "<div id=\"mntl-sc-block_1-0-25\" class=\"comp mntl-sc-block mntl-sc-block-adslot mntl-block\"></div>\n",
       "<p id=\"mntl-sc-block_1-0-26\" class=\"comp mntl-sc-block finance-sc-block-html mntl-sc-block-html\">\n",
       "Once referred to as <a href=\"https://www.investopedia.com/terms/s/specialist.asp\" data-component=\"link\" data-source=\"inlineLink\" data-type=\"internalLink\" data-ordinal=\"1\">specialist</a> systems, DMMs are essentially lone market makers with a monopoly over the order flow in a particular security or securities. Because the NYSE is an <a href=\"https://www.investopedia.com/terms/a/auctionmarket.asp\" data-component=\"link\" data-source=\"inlineLink\" data-type=\"internalLink\" data-ordinal=\"2\">auction market</a>, bids and asks are competitively forwarded by investors.<span class=\"ql-inline-citation\" data-cite=\"2\"></span>\n",
       "</p>\n",
       "<div id=\"mntl-sc-block_1-0-27\" class=\"comp mntl-sc-block mntl-sc-block-adslot mntl-block\"></div>\n",
       "<p id=\"mntl-sc-block_1-0-28\" class=\"comp mntl-sc-block finance-sc-block-html mntl-sc-block-html\">\n",
       "Here's how it works: The specialist posts these bids and asks for the entire market to see and ensures they are reported in an accurate and timely manner. They also make sure that the best price is always maintained, that all marketable trades are executed, and that order is maintained on the floor.\n",
       "</p>\n",
       "<div id=\"mntl-sc-block_1-0-29\" class=\"comp mntl-sc-block mntl-sc-block-adslot mntl-block\"></div>\n",
       "<p id=\"mntl-sc-block_1-0-30\" class=\"comp mntl-sc-block finance-sc-block-html mntl-sc-block-html\">\n",
       "The specialist must also set the opening price for the stock each morning, which can differ from the previous day's closing price based on after-hours news and events. The specialist determines the correct market price based on <a href=\"https://www.investopedia.com/terms/l/law-of-supply-demand.asp\" data-component=\"link\" data-source=\"inlineLink\" data-type=\"internalLink\" data-ordinal=\"1\">supply and demand</a>.<span class=\"ql-inline-citation\" data-cite=\"5\"></span>\n",
       "</p>\n",
       "<div id=\"mntl-sc-block_1-0-31\" class=\"comp mntl-sc-block mntl-sc-block-adslot mntl-block\"></div>\n",
       "<div id=\"mntl-sc-block_1-0-32\" class=\"comp mntl-sc-block finance-sc-block-callout mntl-block\">\n",
       "<div id=\"mntl-sc-block_1-0-33\" class=\"comp theme-note mntl-sc-block mntl-sc-block-callout mntl-block\" data-tracking-id=\"mntl-sc-block-callout\" data-tracking-container=\"true\">\n",
       "<h3 id=\"mntl-sc-block-callout-heading_1-0-2\" class=\"comp with-title mntl-sc-block-callout-heading mntl-text-block\">\n",
       "$40.72 trillion</h3>\n",
       "<div id=\"mntl-sc-block-callout-body_1-0-2\" class=\"comp mntl-sc-block-callout-body mntl-text-block\">\n",
       "<p>Total market capitalization of domestic companies listed in the United States.<span class=\"ql-inline-citation\" data-cite=\"15\"></span></p></div>\n",
       "</div>\n",
       "</div>\n",
       "<span class=\"heading-toc\" id=\"toc-market-makers-by-exchange\"></span> <h2 id=\"mntl-sc-block_1-0-34\" class=\"comp mntl-sc-block finance-sc-block-heading mntl-sc-block-heading\"> <span class=\"mntl-sc-block-heading__text\"> Market Makers by Exchange </span> </h2>\n",
       "<p id=\"mntl-sc-block_1-0-35\" class=\"comp mntl-sc-block finance-sc-block-html mntl-sc-block-html\">\n",
       "As noted above, market makers provide trading services for investors who participate in the <a href=\"https://www.investopedia.com/articles/stocks/11/securities-market-introduction.asp\" data-component=\"link\" data-source=\"inlineLink\" data-type=\"internalLink\" data-ordinal=\"1\">securities market</a>. Their activities produce and boost liquidity within the markets. You can find these entities all over the global market. We've highlighted some of the most popular ones in different parts of the world.\n",
       "</p>\n",
       "<div id=\"mntl-sc-block_1-0-36\" class=\"comp mntl-sc-block mntl-sc-block-adslot mntl-block\"></div>\n",
       "<h3 id=\"mntl-sc-block_1-0-37\" class=\"comp mntl-sc-block finance-sc-block-subheading mntl-sc-block-subheading\"> <span class=\"mntl-sc-block-subheading__text\"> NYSE and Nasdaq </span> </h3>\n",
       "<p id=\"mntl-sc-block_1-0-38\" class=\"comp mntl-sc-block finance-sc-block-html mntl-sc-block-html\">\n",
       "The <a href=\"https://www.investopedia.com/articles/basics/03/103103.asp\" data-component=\"link\" data-source=\"inlineLink\" data-type=\"internalLink\" data-ordinal=\"1\">NYSE and Nasdaq</a> are the two main stock exchanges in the United States. Both are based in New York.\n",
       "</p>\n",
       "<div id=\"mntl-sc-block_1-0-39\" class=\"comp mntl-sc-block mntl-sc-block-adslot mntl-block\"></div>\n",
       "<p id=\"mntl-sc-block_1-0-40\" class=\"comp mntl-sc-block finance-sc-block-html mntl-sc-block-html\">\n",
       "According to the NYSE, a lead market maker is an \"ETP holder or firm that has registered\" to trade securities with the exchange.<span class=\"ql-inline-citation\" data-cite=\"6\"></span> Over at the Nasdaq, a market maker is a \"member firm that buys and sells securities at prices it displays in NASDAQ for its own account (principal trades) and for customer accounts (agency trades).\"<span class=\"ql-inline-citation\" data-cite=\"7\"></span>\n",
       "</p>\n",
       "<div id=\"mntl-sc-block_1-0-41\" class=\"comp mntl-sc-block mntl-sc-block-adslot mntl-block\"></div>\n",
       "<p id=\"mntl-sc-block_1-0-42\" class=\"comp mntl-sc-block finance-sc-block-html mntl-sc-block-html\">\n",
       "Some of the top names of market makers in New York include:\n",
       "</p>\n",
       "<div id=\"mntl-sc-block_1-0-43\" class=\"comp mntl-sc-block mntl-sc-block-adslot mntl-block\"></div>\n",
       "<ul id=\"mntl-sc-block_1-0-44\" class=\"comp mntl-sc-block finance-sc-block-html mntl-sc-block-html\">\n",
       "<li>Credit Suisse</li><li>Deutsche Bank </li><li>Goldman Sachs</li><li>KCG Americas</li><li>Timber Hill <span class=\"ql-inline-citation\" data-cite=\"6\"></span><br></li>\n",
       "</ul>\n",
       "<div id=\"mntl-sc-block_1-0-45\" class=\"comp mntl-sc-block mntl-sc-block-adslot mntl-block\"></div>\n",
       "<h3 id=\"mntl-sc-block_1-0-46\" class=\"comp mntl-sc-block finance-sc-block-subheading mntl-sc-block-subheading\"> <span class=\"mntl-sc-block-subheading__text\"> Frankfurt Stock Exchange (FRA) </span> </h3>\n",
       "<p id=\"mntl-sc-block_1-0-47\" class=\"comp mntl-sc-block finance-sc-block-html mntl-sc-block-html\">\n",
       "The <a href=\"https://www.investopedia.com/terms/f/frankfurt-stock-exchange-fra-.f.asp\" data-component=\"link\" data-source=\"inlineLink\" data-type=\"internalLink\" data-ordinal=\"1\">Frankfurt Stock Exchange (FRA)</a> is one of seven stock exchanges in Germany. It is also the largest in the country. The exchange, which is operated by Deutsche Börse AG, calls its market makers designated sponsors.<span class=\"ql-inline-citation\" data-cite=\"13\"></span>\n",
       "</p>\n",
       "<div id=\"mntl-sc-block_1-0-48\" class=\"comp mntl-sc-block mntl-sc-block-adslot mntl-block\"></div>\n",
       "<p id=\"mntl-sc-block_1-0-49\" class=\"comp mntl-sc-block finance-sc-block-html mntl-sc-block-html\">\n",
       "The following are some of the names of market makers on Xetra, which is the electronic trading platform of the exchange group:\n",
       "</p>\n",
       "<div id=\"mntl-sc-block_1-0-50\" class=\"comp mntl-sc-block mntl-sc-block-adslot mntl-block\"></div>\n",
       "<ul id=\"mntl-sc-block_1-0-51\" class=\"comp mntl-sc-block finance-sc-block-html mntl-sc-block-html\">\n",
       "<li>Berenberg</li><li>JPMorgan</li><li>Morgan Stanley</li><li>Optiver</li><li>UBS Europe<span class=\"ql-inline-citation\" data-cite=\"14\"></span><br></li>\n",
       "</ul>\n",
       "<div id=\"mntl-sc-block_1-0-52\" class=\"comp mntl-sc-block mntl-sc-block-adslot mntl-block\"></div>\n",
       "<h3 id=\"mntl-sc-block_1-0-53\" class=\"comp mntl-sc-block finance-sc-block-subheading mntl-sc-block-subheading\"> <span class=\"mntl-sc-block-subheading__text\"> London Stock Exchange Group </span> </h3>\n",
       "<p id=\"mntl-sc-block_1-0-54\" class=\"comp mntl-sc-block finance-sc-block-html mntl-sc-block-html\">\n",
       "London is home to one of the largest stock exchange groups in Europe. The <a href=\"https://www.investopedia.com/terms/l/lse.asp\" data-component=\"link\" data-source=\"inlineLink\" data-type=\"internalLink\" data-ordinal=\"1\">London Stock Exchange (LSE)</a> is part of the London Stock Exchange Group. This group also includes the family of FTSE Russell Indexes and the group's clearing services.<span class=\"ql-inline-citation\" data-cite=\"8\"></span>\n",
       "</p>\n",
       "<div id=\"mntl-sc-block_1-0-55\" class=\"comp mntl-sc-block mntl-sc-block-adslot mntl-block\"></div>\n",
       "<p id=\"mntl-sc-block_1-0-56\" class=\"comp mntl-sc-block finance-sc-block-html mntl-sc-block-html\">\n",
       "The following are some of the key market makers in his part of the world:\n",
       "</p>\n",
       "<div id=\"mntl-sc-block_1-0-57\" class=\"comp mntl-sc-block mntl-sc-block-adslot mntl-block\"></div>\n",
       "<ul id=\"mntl-sc-block_1-0-58\" class=\"comp mntl-sc-block finance-sc-block-html mntl-sc-block-html\">\n",
       "<li>BNP Paribas</li><li>GMP Securities Europe</li><li>Liberium Capital</li><li>Mediobanca</li><li>Standard Chartered<span class=\"ql-inline-citation\" data-cite=\"9\"></span><br></li>\n",
       "</ul>\n",
       "<div id=\"mntl-sc-block_1-0-59\" class=\"comp mntl-sc-block mntl-sc-block-adslot mntl-block\"></div>\n",
       "<h3 id=\"mntl-sc-block_1-0-60\" class=\"comp mntl-sc-block finance-sc-block-subheading mntl-sc-block-subheading\"> <span class=\"mntl-sc-block-subheading__text\"> Tokyo Exchange Group </span> </h3>\n",
       "<p id=\"mntl-sc-block_1-0-61\" class=\"comp mntl-sc-block finance-sc-block-html mntl-sc-block-html\">\n",
       "The Tokyo Exchange Group combined the Tokyo Stock Exchange and the Osaka Securities Exchange into one unit in 2013. In addition to <a href=\"https://www.investopedia.com/terms/i/infrastructure.asp\" data-component=\"link\" data-source=\"inlineLink\" data-type=\"internalLink\" data-ordinal=\"1\">infrastructure</a> and data, the group provides \"market users with reliable venues for trading listed securities and derivatives instruments.\"<span class=\"ql-inline-citation\" data-cite=\"10\"></span>\n",
       "</p>\n",
       "<div id=\"mntl-sc-block_1-0-62\" class=\"comp mntl-sc-block mntl-sc-block-adslot mntl-block\"></div>\n",
       "<p id=\"mntl-sc-block_1-0-63\" class=\"comp mntl-sc-block finance-sc-block-html mntl-sc-block-html\">\n",
       "According to JPX, the following are some of the key names among market makers:\n",
       "</p>\n",
       "<div id=\"mntl-sc-block_1-0-64\" class=\"comp mntl-sc-block mntl-sc-block-adslot mntl-block\"></div>\n",
       "<ul id=\"mntl-sc-block_1-0-65\" class=\"comp mntl-sc-block finance-sc-block-html mntl-sc-block-html\">\n",
       "<li>ABN AMRO Clearing</li><li>Nissan Securities</li><li>Nomura Securities</li><li>Phillip Securities</li><li>Societe Generale<span class=\"ql-inline-citation\" data-cite=\"11\"></span></li>\n",
       "</ul>\n",
       "<div id=\"mntl-sc-block_1-0-66\" class=\"comp mntl-sc-block mntl-sc-block-adslot mntl-block\"></div>\n",
       "<h3 id=\"mntl-sc-block_1-0-67\" class=\"comp mntl-sc-block finance-sc-block-subheading mntl-sc-block-subheading\"> <span class=\"mntl-sc-block-subheading__text\"> Toronto Stock Exchange (TSX) </span> </h3>\n",
       "<p id=\"mntl-sc-block_1-0-68\" class=\"comp mntl-sc-block finance-sc-block-html mntl-sc-block-html\">\n",
       "Toronto is considered to be Canada's financial capital, which is where the country's leading stock exchange is located. The <a href=\"https://www.investopedia.com/terms/t/toronto-stock-exchange-tsx.asp\" data-component=\"link\" data-source=\"inlineLink\" data-type=\"internalLink\" data-ordinal=\"1\">Toronto Stock Exchange (TSX)</a>, which is the country's largest exchange, is owned by TMX Group.\n",
       "</p>\n",
       "<div id=\"mntl-sc-block_1-0-69\" class=\"comp mntl-sc-block mntl-sc-block-adslot mntl-block\"></div>\n",
       "<p id=\"mntl-sc-block_1-0-70\" class=\"comp mntl-sc-block finance-sc-block-html mntl-sc-block-html\">\n",
       "The TSX lists the following among its market makers:\n",
       "</p>\n",
       "<div id=\"mntl-sc-block_1-0-71\" class=\"comp mntl-sc-block mntl-sc-block-adslot mntl-block\"></div>\n",
       "<ul id=\"mntl-sc-block_1-0-72\" class=\"comp mntl-sc-block finance-sc-block-html mntl-sc-block-html\">\n",
       "<li>BMO Nesbitt Burns</li><li>Integral Wealth Solutions</li><li>Questrade</li><li>Scotia Capital</li><li>TD Securities<span class=\"ql-inline-citation\" data-cite=\"12\"></span></li>\n",
       "</ul>\n",
       "<div id=\"mntl-sc-block_1-0-73\" class=\"comp mntl-sc-block mntl-sc-block-adslot mntl-block\"></div>\n",
       "<div id=\"mntl-sc-block_1-0-74\" class=\"comp mntl-sc-block finance-sc-block-callout mntl-block\">\n",
       "<div id=\"mntl-sc-block_1-0-75\" class=\"comp theme-important mntl-sc-block mntl-sc-block-callout mntl-block\" data-tracking-id=\"mntl-sc-block-callout\" data-tracking-container=\"true\">\n",
       "<h3 id=\"mntl-sc-block-callout-heading_1-0-3\" class=\"comp mntl-sc-block-callout-heading mntl-text-block\"></h3>\n",
       "<div id=\"mntl-sc-block-callout-body_1-0-3\" class=\"comp mntl-sc-block-callout-body mntl-text-block\">\n",
       "<p>Market-making facilitates a smoother flow of financial markets by making it easier for investors and traders to buy and sell. Without market making, there may be insufficient <a href=\"https://www.investopedia.com/terms/t/transaction.asp\" data-component=\"link\" data-source=\"inlineLink\" data-type=\"internalLink\" data-ordinal=\"1\">transactions</a> and fewer investment activities.</p></div>\n",
       "</div>\n",
       "</div>\n",
       "<span class=\"heading-toc\" id=\"toc-example-of-market-maker\"></span> <h2 id=\"mntl-sc-block_1-0-76\" class=\"comp mntl-sc-block finance-sc-block-heading mntl-sc-block-heading\"> <span class=\"mntl-sc-block-heading__text\"> Example of Market Maker </span> </h2>\n",
       "<p id=\"mntl-sc-block_1-0-77\" class=\"comp mntl-sc-block finance-sc-block-html mntl-sc-block-html\">\n",
       "Here's a hypothetical example to show how a market maker trades. Let's say there's a market maker in XYZ stock. They may provide a quote of $10.00 - $10.05 or 100x500. This means that they make a bid (they will buy) of $10.00 for 100 shares. They'll also offer (they will sell) 500 shares at $10.05. Other market participants may then buy (lift the offer) from the MM at $10.05 or sell to them (<a href=\"https://www.investopedia.com/terms/h/hitthebid.asp\" data-component=\"link\" data-source=\"inlineLink\" data-type=\"internalLink\" data-ordinal=\"1\">hit the bid</a>) at $10.00.<br>\n",
       "</p>\n",
       "<div id=\"mntl-sc-block_1-0-78\" class=\"comp mntl-sc-block mntl-sc-block-adslot mntl-block\"></div>\n",
       "<div id=\"mntl-sc-block_1-0-79\" class=\"comp mntl-sc-block finance-sc-block-questionandanswer mntl-sc-block-questionandanswer\">\n",
       "<span class=\"heading-toc\" id=\"toc-who-are-market-makers-and-what-do-they-do\"></span>\n",
       "<h2 class=\"mntl-sc-block-questionandanswer__question\">Who Are Market Makers and What Do They Do?</h2>\n",
       "<div class=\"mntl-sc-block-questionandanswer__answer\"><p>A market maker participates in the securities market by providing trading services for investors and boosting liquidity in the market. They specifically provide bids and offers for a particular security in addition to its market size. Market makers typically work for large brokerage houses that profit off of the difference between the bid and ask spread.</p></div>\n",
       "</div>\n",
       "<div id=\"mntl-sc-block_1-0-80\" class=\"comp mntl-sc-block mntl-sc-block-adslot mntl-block\"></div>\n",
       "<div id=\"mntl-sc-block_1-0-81\" class=\"comp mntl-sc-block finance-sc-block-questionandanswer mntl-sc-block-questionandanswer\">\n",
       "<span class=\"heading-toc\" id=\"toc-how-do-market-makers-work\"></span>\n",
       "<h2 class=\"mntl-sc-block-questionandanswer__question\">How Do Market Makers Work?</h2>\n",
       "<div class=\"mntl-sc-block-questionandanswer__answer\"><p>A number of market makers operate and compete with each other within securities exchanges to attract the business of investors through setting the most competitive bid and ask offers. In some cases, exchanges like the NYSE use a specialist system where a specialist is the sole market maker who makes all the bids and asks that are visible to the market. A specialist process is conducted to ensure that all marketable trades are executed at a fair price in a timely manner.</p></div>\n",
       "</div>\n",
       "<div id=\"mntl-sc-block_1-0-82\" class=\"comp mntl-sc-block mntl-sc-block-adslot mntl-block\"></div>\n",
       "<div id=\"mntl-sc-block_1-0-83\" class=\"comp mntl-sc-block finance-sc-block-questionandanswer mntl-sc-block-questionandanswer\">\n",
       "<span class=\"heading-toc\" id=\"toc-how-do-market-makers-earn-a-profit\"></span>\n",
       "<h2 class=\"mntl-sc-block-questionandanswer__question\">How Do Market Makers Earn a Profit?</h2>\n",
       "<div class=\"mntl-sc-block-questionandanswer__answer\"><p>Market makers earn a profit through the spread between the securities bid and offer price. Because market makers bear the risk of covering a given security, which may drop in price, they are compensated for this risk of holding the assets. For example, consider an investor who sees that Apple stock has a bid price of $50 and an ask price of $50.10. What this means is that the market maker bought the Apple shares for $50 and is selling them for $50.10, earning a profit of $0.10.</p></div>\n",
       "</div>\n",
       "<div id=\"mntl-sc-block_1-0-84\" class=\"comp mntl-sc-block mntl-sc-block-adslot mntl-block\"></div>\n",
       "<span class=\"heading-toc\" id=\"toc-the-bottom-line\"></span> <h2 id=\"mntl-sc-block_1-0-85\" class=\"comp mntl-sc-block finance-sc-block-heading mntl-sc-block-heading\"> <span class=\"mntl-sc-block-heading__text\"> The Bottom Line </span> </h2>\n",
       "<p id=\"mntl-sc-block_1-0-86\" class=\"comp mntl-sc-block finance-sc-block-html mntl-sc-block-html\">\n",
       "The market is made up of a range of different entities that help keep things going. They include corporations, exchanges, traders and investors, and market makers. Each one of these serves a different purpose: Companies offer their shares on the market. Exchanges are where these transactions take place, And traders and investors are at one end of the transactions. Market makers, though, play a very important role in all of this. These entities provide bids and offers and inject much-needed liquidity into the markets as they do this.\n",
       "</p>\n",
       "</div>"
      ]
     },
     "execution_count": 12,
     "metadata": {},
     "output_type": "execute_result"
    }
   ],
   "source": [
    "div"
   ]
  },
  {
   "cell_type": "code",
   "execution_count": 14,
   "id": "c2fd90db-ab2b-4a69-8e9b-3ebc059d78f9",
   "metadata": {},
   "outputs": [],
   "source": [
    "s = BeautifulSoup(page, \"html.parser\")\n",
    "div_pattern = \"mntl-sc-page_1-0\"\n",
    "d = s.find(\"div\", {\"id\": div_pattern})\n",
    "c = d.get_text()"
   ]
  },
  {
   "cell_type": "code",
   "execution_count": 15,
   "id": "47be73d7-a375-4cc9-b967-69fcf75d5674",
   "metadata": {},
   "outputs": [
    {
     "data": {
      "text/plain": [
       "'\\n   What Is a Market Maker?  \\n\\nThe term market maker refers to a firm or individual who actively quotes two-sided markets in a particular security by providing bids and offers (known as asks) along with the market size of each. Market makers provide liquidity and depth to markets and profit from the difference in the bid-ask spread. They may also make trades for their own accounts, which are known as principal trades.\\n\\n\\n\\n\\n\\nKey Takeaways\\n\\nA market maker is an individual participant or member firm of an exchange that buys and sells securities for its own account.Market makers provide the market with liquidity and depth while profiting from the difference in the bid-ask spread.Brokerage houses are the most common types of market makers, providing purchase and sale solutions for investors.Market makers are compensated for the risk of holding assets because a security\\'s value may decline between its purchase and sale to another buyer. While brokers compete against one another, specialists post bids and asks and ensure they are reported accurately.\\n\\n\\n\\n\\n\\n\\n   Understanding Market Makers  \\n\\nMany market makers are often brokerage houses that provide trading services for investors in an effort to keep financial markets liquid. A market maker can also be an individual trader, who is commonly known as a local. The vast majority of market makers work on behalf of large institutions due to the size of securities needed to facilitate the volume of purchases and sales.\\n\\n\\n\\nEach market maker displays buy and sell quotations for a guaranteed number of shares. Once the market maker receives an order from a buyer, they immediately sell off their position of shares from their own inventory. This allows them to complete the order.\\n\\n\\n\\nA market maker must commit to continuously quoting prices at which it will buy (or\\xa0bid for)\\xa0and sell (or ask for) securities. Market makers must also quote the\\xa0volume in which they\\'re willing to trade along with the frequency of time they will quote at the best bid and best offer prices. Market makers must stick to these parameters at all times and during all market outlooks. When markets become erratic or volatile, market makers must remain disciplined in order to continue facilitating smooth transactions.\\n\\n\\n\\n\\n\\n\\nMaking a market\\xa0signals a willingness to buy and sell the securities of a certain set of companies to broker-dealer firms that are members of that exchange.\\n\\n\\n   How Market Makers Earn Profits  \\n\\nMarket makers are compensated for the risk of holding assets because they may see a decline in the value of a security after it has been purchased from a seller and before it\\'s sold to a buyer.\\n\\n\\n\\nConsequently, they commonly charge the aforementioned spread on each security they cover. For example, when an investor searches for a stock using an online brokerage firm, it might observe a bid price of $100 and an ask price of $100.05. This means the broker purchases the stock for $100, then sells it to prospective buyers for $100.05. Through high-volume trading, a small spread can add up to large daily profits.\\n\\n\\n\\nMarket makers must operate under a given exchange\\'s bylaws, which are approved by a country\\'s securities regulator, such as the Securities and Exchange Commission (SEC). The rights and responsibilities of market makers vary by exchange and by the type of financial instrument they trade, such as equities or options.\\n\\n\\n   Market Makers vs. Designated Market Makers (DMMs)  \\n\\nMany exchanges use a system of market makers, who compete to set the best bid or offer so they can win the business of incoming orders. But some entities, such as the New York Stock Exchange (NYSE), have what\\'s called a designated market maker (DMM) system instead.\\n\\n\\n\\nOnce referred to as specialist systems, DMMs are essentially lone market makers with a monopoly over the order flow in a particular security or securities. Because the NYSE is an\\xa0auction market, bids and asks are competitively forwarded by investors.\\n\\n\\n\\nHere\\'s how it works: The specialist posts these bids and asks for the entire market to see and ensures they are reported in an accurate and timely manner. They also make sure that the best price is always maintained, that all marketable trades are executed, and that order is maintained on the floor.\\n\\n\\n\\nThe specialist must also set the opening price for the stock each morning, which can differ from the previous day\\'s closing price based on after-hours news and events. The specialist determines the correct market price based on supply and demand.\\n\\n\\n\\n\\n\\n$40.72 trillion\\n\\nTotal market capitalization of domestic companies listed in the United States.\\n\\n\\n   Market Makers by Exchange  \\n\\nAs noted above, market makers provide trading services for investors who participate in the securities market. Their activities produce and boost liquidity within the markets. You can find these entities all over the global market. We\\'ve highlighted some of the most popular ones in different parts of the world.\\n\\n\\n  NYSE and Nasdaq  \\n\\nThe NYSE and Nasdaq are the two main stock exchanges in the United States. Both are based in New York.\\n\\n\\n\\nAccording to the NYSE, a lead market maker is an \"ETP holder or firm that has registered\" to trade securities with the exchange. Over at the Nasdaq, a market maker is a \"member firm that buys and sells securities at prices it displays in NASDAQ for its own account (principal trades) and for customer accounts (agency trades).\"\\n\\n\\n\\nSome of the top names of market makers in New York include:\\n\\n\\n\\nCredit SuisseDeutsche Bank\\xa0Goldman SachsKCG AmericasTimber Hill\\xa0\\n\\n\\n  Frankfurt Stock Exchange (FRA)  \\n\\nThe Frankfurt Stock Exchange (FRA) is one of seven stock exchanges in Germany. It is also the largest in the country. The exchange, which is operated by Deutsche Börse\\xa0AG, calls its market makers designated sponsors.\\n\\n\\n\\nThe following are some of the names of market makers on Xetra, which is the electronic trading platform of the exchange group:\\n\\n\\n\\nBerenbergJPMorganMorgan StanleyOptiverUBS Europe\\n\\n\\n  London Stock Exchange Group  \\n\\nLondon is home to one of the largest stock exchange groups in Europe. The London Stock Exchange (LSE) is part of the London Stock Exchange Group. This group also includes the family of FTSE Russell Indexes and the group\\'s clearing services.\\n\\n\\n\\nThe following are some of the key market makers in his part of the world:\\n\\n\\n\\nBNP ParibasGMP Securities EuropeLiberium CapitalMediobancaStandard Chartered\\n\\n\\n  Tokyo Exchange Group  \\n\\nThe Tokyo Exchange Group combined the Tokyo Stock Exchange and the Osaka Securities Exchange into one unit in 2013. In addition to infrastructure and data, the group provides \"market users with reliable venues for trading listed securities and derivatives instruments.\"\\n\\n\\n\\nAccording to JPX, the following are some of the key names among market makers:\\n\\n\\n\\nABN AMRO ClearingNissan SecuritiesNomura SecuritiesPhillip SecuritiesSociete Generale\\n\\n\\n  Toronto Stock Exchange (TSX)  \\n\\nToronto is considered to be Canada\\'s financial capital, which is where the country\\'s leading stock exchange is located. The Toronto Stock Exchange (TSX), which is the country\\'s largest exchange, is owned by TMX Group.\\n\\n\\n\\nThe TSX lists the following among its market makers:\\n\\n\\n\\nBMO Nesbitt BurnsIntegral Wealth SolutionsQuestradeScotia CapitalTD Securities\\n\\n\\n\\n\\n\\n\\nMarket-making facilitates a smoother flow of financial markets by making it easier for investors and traders to buy and sell. Without market making, there may be insufficient transactions and fewer investment activities.\\n\\n\\n   Example of Market Maker  \\n\\nHere\\'s a hypothetical example to show how a market maker trades. Let\\'s say there\\'s a market maker in XYZ stock. They may provide a quote of $10.00 - $10.05 or 100x500. This means that they make a bid (they will buy) of $10.00 for 100 shares. They\\'ll also offer (they will sell) 500 shares at $10.05. Other market participants may then buy (lift the offer) from the MM at $10.05 or sell to them (hit the bid) at $10.00.\\n\\n\\n\\n\\nWho Are Market Makers and What Do They Do?\\nA market maker participates in the securities market by providing trading services for investors and boosting liquidity in the market. They specifically provide bids and offers for a particular security in addition to its market size. Market makers typically work for large brokerage houses that profit off of the difference between the bid and ask spread.\\n\\n\\n\\n\\nHow Do Market Makers Work?\\nA number of market makers operate and compete with each other within securities exchanges to attract the business of investors through setting the most competitive bid and ask offers. In some cases, exchanges like the NYSE use a specialist system where a specialist is the sole market maker who makes all the bids and asks that are visible to the market. A specialist process is conducted to ensure that all marketable trades are executed at a fair price in a timely manner.\\n\\n\\n\\n\\nHow Do Market Makers Earn a Profit?\\nMarket makers earn a profit through the spread between the securities bid and offer price. Because market makers bear the risk of covering a given security, which may drop in price, they are compensated for this risk of holding the assets. For example, consider an investor who sees that Apple stock has a bid price of $50 and an ask price of $50.10. What this means is that the market maker bought the Apple shares for $50 and is selling them for $50.10, earning a profit of $0.10.\\n\\n\\n   The Bottom Line  \\n\\nThe market is made up of a range of different entities that help keep things going. They include corporations, exchanges, traders and investors, and market makers. Each one of these serves a different purpose: Companies offer their shares on the market. Exchanges are where these transactions take place, And traders and investors are at one end of the transactions. Market makers, though, play a very important role in all of this. These entities provide bids and offers and inject much-needed liquidity into the markets as they do this.\\n\\n'"
      ]
     },
     "execution_count": 15,
     "metadata": {},
     "output_type": "execute_result"
    }
   ],
   "source": [
    "c"
   ]
  },
  {
   "cell_type": "code",
   "execution_count": null,
   "id": "a607eb33-84cf-4d12-b0b6-0b651b49229c",
   "metadata": {},
   "outputs": [],
   "source": []
  }
 ],
 "metadata": {
  "kernelspec": {
   "display_name": "Python 3 (ipykernel)",
   "language": "python",
   "name": "python3"
  },
  "language_info": {
   "codemirror_mode": {
    "name": "ipython",
    "version": 3
   },
   "file_extension": ".py",
   "mimetype": "text/x-python",
   "name": "python",
   "nbconvert_exporter": "python",
   "pygments_lexer": "ipython3",
   "version": "3.10.11"
  }
 },
 "nbformat": 4,
 "nbformat_minor": 5
}
